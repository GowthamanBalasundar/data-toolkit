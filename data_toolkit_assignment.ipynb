{
  "nbformat": 4,
  "nbformat_minor": 0,
  "metadata": {
    "colab": {
      "provenance": []
    },
    "kernelspec": {
      "name": "python3",
      "display_name": "Python 3"
    },
    "language_info": {
      "name": "python"
    }
  },
  "cells": [
    {
      "cell_type": "markdown",
      "source": [
        "Name: Gowthaman Balasundar\n",
        "\n",
        "Email: gowthamanbalasundar@gmail.com"
      ],
      "metadata": {
        "id": "stKC9VECcd_a"
      }
    },
    {
      "cell_type": "markdown",
      "source": [
        "DATA TOOLKIT THEORY QnA:"
      ],
      "metadata": {
        "id": "pTtDgH6mcwP5"
      }
    },
    {
      "cell_type": "markdown",
      "source": [
        "1.What is NumPy, and why is it widely used in Python?\n",
        "\n",
        "NumPy (Numerical Python) is a fundamental library for scientific computing in Python. It provides support for large, multi-dimensional arrays and matrices, along with a collection of high-level mathematical functions to operate on these arrays. It's widely used because:\n",
        "\n",
        "  Performance: NumPy operations are implemented in C and Fortran, making them significantly faster than standard Python list operations, especially for large datasets.\n",
        "\n",
        "  Efficiency: It uses less memory to store data compared to Python lists due to its fixed-type nature.\n",
        "\n",
        "  Foundation for other libraries: Many other popular Python libraries for data science, such as Pandas, SciPy, and Scikit-learn, are built on top of NumPy arrays.\n",
        "\n",
        "  Rich functionality: It offers a vast array of mathematical functions (linear algebra, Fourier transforms, random number generation, etc.) that can be applied to arrays.\n",
        "\n",
        "2.How does broadcasting work in NumPy?\n",
        "\n",
        "Broadcasting in NumPy is a powerful mechanism that allows NumPy to perform operations on arrays of different shapes. When performing an operation (like addition, subtraction, multiplication) on two arrays, NumPy tries to \"broadcast\" the smaller array across the larger array so they have compatible shapes. This is done without making actual copies of the data, which makes it very efficient.\n",
        "\n",
        "The rules for broadcasting are:\n",
        "\n",
        "  If the arrays do not have the same number of dimensions, the shape of the smaller array is padded with ones on its left side.\n",
        "\n",
        "  For each dimension, the sizes must be either equal, or one of them must be 1.\n",
        "\n",
        "  If the sizes are not equal and neither is 1, a ValueError is raised, indicating that the arrays cannot be broadcast together.\n",
        "\n",
        "3.What is a Pandas DataFrame?\n",
        "A Pandas DataFrame is a two-dimensional, size-mutable, and potentially heterogeneous tabular data structure with labeled axes (rows and columns). It is essentially a table of data, where each column can hold a different data type (e.g., integer, float, string, boolean). It's similar to a spreadsheet or a SQL table. DataFrames are the most commonly used Pandas object and are incredibly powerful for data manipulation, cleaning, and analysis.\n",
        "\n",
        "4.Explain the use of the groupby() method in Pandas.\n",
        "\n",
        "The groupby() method in Pandas is used for grouping rows of a DataFrame based on one or more column values. It performs a \"split-apply-combine\" operation:\n",
        "\n",
        "  Split: The data is split into groups based on some criterion.\n",
        "\n",
        "  Apply: A function (e.g., aggregation, transformation, filtration) is applied to each group independently.\n",
        "\n",
        "  Combine: The results of these operations are combined into a single result object.\n",
        "\n",
        "Common uses include calculating aggregate statistics (sum, mean, count, min, max) for different categories, performing custom calculations on subgroups, or filtering data based on group characteristics.\n",
        "\n",
        "5.Why is Seaborn preferred for statistical visualizations?\n",
        "Seaborn is preferred for statistical visualizations because it:\n",
        "\n",
        "  High-level interface: Provides a higher-level interface than Matplotlib for drawing attractive and informative statistical graphics. It simplifies the creation of complex plots.\n",
        "\n",
        "  Integration with Pandas: Works seamlessly with Pandas DataFrames, allowing you to plot directly from your structured data.\n",
        "\n",
        "  Aesthetics: Comes with built-in themes and color palettes that make plots visually appealing by default, requiring less manual tweaking.\n",
        "\n",
        "  Statistical focus: Designed specifically for statistical plotting, offering specialized plot types like heatmaps, violin plots, box plots, pair plots, and more, which are crucial for understanding data distributions and relationships.\n",
        "\n",
        "  Handles common statistical tasks: Can automatically perform aggregation and estimation when creating plots (e.g., showing confidence intervals).\n",
        "\n",
        "6.What are the differences between NumPy arrays and Python lists?\n",
        "\n",
        "| Feature           | NumPy Array                                   | Python List                                       |\n",
        "| :---------------- | :-------------------------------------------- | :------------------------------------------------ |\n",
        "| Data Type | Homogeneous (all elements must be of the same type) | Heterogeneous (elements can be of different types) |\n",
        "| Performance | Faster for numerical operations (C-optimized) | Slower for numerical operations                   |\n",
        "| Memory Usage | More memory-efficient for large numerical data | Less memory-efficient for numerical data          |\n",
        "| Functionality | Optimized for numerical computations, broadcasting, linear algebra, etc. | General-purpose container, more flexible for diverse data types |\n",
        "| Size | Fixed size once created (though you can reshape) | Dynamic size (can easily add/remove elements)    |\n",
        "\n",
        "7.What is a heatmap, and when should it be used?\n",
        "\n",
        "A heatmap is a graphical representation of data where the individual values contained in a matrix are represented as colors. It's often used to visualize correlation matrices, show the intensity of relationships between variables, or display patterns in tabular data where each cell represents a value.\n",
        "\n",
        "Heatmaps should be used when:\n",
        "\n",
        "  You want to visualize the strength or magnitude of relationships between two variables (e.g., correlation matrix).\n",
        "\n",
        "  You need to display a large amount of numerical data in a compact and visually intuitive way.\n",
        "\n",
        "  You want to identify patterns or clusters within a matrix.\n",
        "\n",
        "  You are analyzing gene expression data, website click patterns, or any data that can be represented as a grid where color indicates value.\n",
        "\n",
        "8.What does the term “vectorized operation” mean in NumPy?\n",
        "\n",
        "A \"vectorized operation\" in NumPy refers to applying an operation to an entire array (or multiple arrays) at once, rather than iterating through individual elements using Python loops. These operations are implemented in highly optimized C code under the hood, making them significantly faster and more efficient than explicit Python loops for large datasets. For example, adding two NumPy arrays arr1 + arr2 is a vectorized operation, while [x + y for x, y in zip(list1, list2)] is not.\n",
        "\n",
        "9.How does Matplotlib differ from Plotly?\n",
        "\n",
        "| Feature           | Matplotlib                                    | Plotly                                            |\n",
        "| :---------------- | :-------------------------------------------- | :------------------------------------------------ |\n",
        "| Interactivity | Primarily static plots; interactivity requires additional libraries (e.g., mpl_toolkits) | Highly interactive plots by default (zoom, pan, hover) |\n",
        "| Output | Static images (PNG, JPG, PDF, SVG), basic interactive GUIs | Interactive HTML, JSON, images, web applications |\n",
        "| Complexity | Lower-level, more control over every aspect of the plot; steeper learning curve for advanced customization | Higher-level API, easier to create complex plots with less code; more opinionated |\n",
        "| Use Case | Scientific plotting, custom visualizations, publication-quality static figures | Web-based dashboards, interactive reports, exploratory data analysis |\n",
        "| Dependency | Core library, often extended by others (Seaborn, Pandas plotting) | Can run offline, but often used for online sharing and dashboards |\n",
        "\n",
        "10.What is the significance of hierarchical indexing in Pandas?\n",
        "\n",
        "Hierarchical indexing (also known as MultiIndex) in Pandas allows you to have multiple index levels on an axis (rows or columns) of a Series or DataFrame. Its significance lies in:\n",
        "\n",
        "  Handling higher-dimensional data: It enables you to represent and work with data that conceptually has more than two dimensions within a 2D DataFrame structure.\n",
        "\n",
        "  Richer data organization: Allows for more complex and meaningful organization of your data, making it easier to select, group, and analyze subsets.\n",
        "\n",
        "  Improved readability: When data has natural hierarchical categories, MultiIndex makes the structure explicit and more understandable.\n",
        "\n",
        "  Powerful selection and slicing: Provides powerful and flexible ways to select data using slices across multiple levels, .loc, and .xs.\n",
        "\n",
        "11.What is the role of Seaborn’s pairplot() function?\n",
        "Seaborn's pairplot() function creates a grid of pairwise relationships in a dataset. For each numerical variable, it plots:\n",
        "\n",
        "  Univariate distribution: A histogram or KDE (Kernel Density Estimate) on the diagonal to show the distribution of each individual variable.\n",
        "\n",
        "  Bivariate relationships: Scatter plots for all combinations of two variables to visualize their relationships.\n",
        "\n",
        "Its role is to provide a quick and comprehensive overview of the distributions of individual variables and the relationships between all pairs of variables in a dataset. It's an excellent tool for initial exploratory data analysis to identify potential correlations, patterns, and outliers.\n",
        "\n",
        "12.What is the purpose of the describe() function in Pandas?\n",
        "The describe() function in Pandas is used to generate descriptive statistics of a DataFrame or Series. For numerical columns, it provides:\n",
        "\n",
        "  count: Number of non-null observations.\n",
        "\n",
        "  mean: Mean of the values.\n",
        "\n",
        "  std: Standard deviation.\n",
        "\n",
        "  min: Minimum value.\n",
        "\n",
        "  25% (Q1): 25th percentile (first quartile).\n",
        "\n",
        "  50% (Q2): 50th percentile (median).\n",
        "\n",
        "  75% (Q3): 75th percentile (third quartile).\n",
        "\n",
        "  max: Maximum value.\n",
        "\n",
        "For non-numerical (object or categorical) columns, it provides count, unique, top (most frequent value), and freq (frequency of the top value). Its purpose is to quickly get a summary of the central tendency, dispersion, and shape of the distribution of a dataset's columns, aiding in initial data understanding and outlier detection.\n",
        "\n",
        "13.Why is handling missing data important in Pandas?\n",
        "Handling missing data is crucial in Pandas because:\n",
        "\n",
        "  Impact on analysis: Most statistical and machine learning models cannot directly handle missing values (NaN, None, NaT). Ignoring them can lead to errors, biased results, or incorrect conclusions.\n",
        "\n",
        "  Data integrity: Missing data can indicate issues with data collection or entry, which need to be addressed to ensure data quality.\n",
        "\n",
        "  Model performance: Imputing or removing missing values appropriately can significantly improve the accuracy and robustness of predictive models.\n",
        "\n",
        "  Data aggregation: Missing values can skew aggregated statistics (e.g., mean, sum) if not handled properly.\n",
        "\n",
        "   Visualization: Missing values can appear as gaps or distortions in plots, making visualizations less informative.\n",
        "\n",
        "Common strategies include dropping rows/columns with missing values, filling them with a specific value (e.g., mean, median, mode), or using more advanced imputation techniques.\n",
        "\n",
        "14.What are the benefits of using Plotly for data visualization?\n",
        "The benefits of using Plotly for data visualization include:\n",
        "\n",
        "  Interactivity: Creates interactive and dynamic plots by default, allowing users to zoom, pan, hover for details, and toggle traces. This enhances data exploration.\n",
        "\n",
        "  Web-friendly: Generates plots as HTML files or JSON objects, making them easily embeddable in web applications, dashboards, and interactive reports.\n",
        "\n",
        "  Wide range of plot types: Supports a vast array of chart types, including basic plots (scatter, line, bar), statistical plots (box, violin), scientific charts (contour, 3D surface), financial charts, and more.\n",
        "\n",
        "  Offline and online capabilities: Can generate plots offline or be used with Plotly's online services for sharing and collaboration.\n",
        "\n",
        "  Dash integration: Forms the backbone of Plotly Dash, a popular framework for building interactive web applications entirely in Python.\n",
        "\n",
        "  Beautiful aesthetics: Provides appealing default aesthetics, often requiring less manual styling than other libraries.\n",
        "\n",
        "15.How does NumPy handle multidimensional arrays?\n",
        "NumPy handles multidimensional arrays (n-dimensional arrays or ndarrays) as its primary data structure. It stores these arrays as a contiguous block of memory, along with metadata that describes their shape (dimensions), data type, and strides (bytes to skip in memory to get to the next element along each dimension).\n",
        "\n",
        "This contiguous memory layout, combined with its C-implemented operations, allows NumPy to efficiently:\n",
        "\n",
        "  Perform operations: Apply mathematical and logical operations across entire arrays regardless of their dimensions.\n",
        "\n",
        "  Indexing and slicing: Access and manipulate subsets of data using intuitive multi-dimensional indexing and slicing.\n",
        "\n",
        "  Broadcasting: Apply operations between arrays of different shapes.\n",
        "\n",
        "  Reshaping: Change the dimensions of an array without changing its data.\n",
        "\n",
        "16.What is the role of Bokeh in data visualization?\n",
        "\n",
        "Bokeh is an interactive visualization library that targets modern web browsers for presentation. Its primary role is to enable the creation of highly interactive and customizable web-based plots and dashboards directly from Python (or other languages). Key aspects of its role include:\n",
        "\n",
        "  Interactive plots: Focuses on rich interactivity, including panning, zooming, selecting, and custom tooltips, without requiring JavaScript knowledge\n",
        "\n",
        "17.Explain the difference between apply() and map() in Pandas.\n",
        "\n",
        "| Feature | apply() | map() |\n",
        "| :---------------- | :-------------------------------------------- | :------------------------------------------------ |\n",
        "| Usage | Primarily for Series and DataFrame. Can apply a function along an axis (row/column) or element-wise. | Primarily for Series. Applies a function element-wise to each value in a Series. |\n",
        "| Input to Function | For Series: each element. For DataFrame: each Series (row or column). | Each individual element of the Series. |\n",
        "| Output Type | Can return a Series, DataFrame, or a scalar, depending on the function. | Returns a Series. |\n",
        "| Flexibility | More flexible; can handle functions that operate on entire rows/columns or multiple columns. Can pass multiple arguments. | Less flexible; designed for element-wise mapping based on a function or dictionary. |\n",
        "| Performance | Can be slower than vectorized operations for element-wise tasks. Faster than explicit Python loops for row/column operations. | Generally faster than apply() for element-wise Series operations, especially with a dictionary. |\n",
        "| Use Case | Complex transformations on rows/columns, applying custom functions that need context of other elements in the row/column, or when aggregation is needed within a group. | Substituting values, mapping values based on a dictionary, or applying simple element-wise transformations. |\n",
        "\n",
        "18.What are some advanced features of NumPy?\n",
        "\n",
        "  Some advanced features of NumPy include:\n",
        "\n",
        "  Broadcasting: (Already discussed, but fundamental to advanced operations).\n",
        "\n",
        "  Universal Functions (ufuncs): Functions that operate element-wise on arrays, enabling fast computations. Examples include np.sin(), np.add(), np.sqrt(). They support broadcasting and type casting.\n",
        "\n",
        "  Linear Algebra Operations: Comprehensive set of functions for linear algebra, including dot products, matrix multiplication (@ operator or np.dot), inversions, determinants, eigenvalues, and solving linear systems (np.linalg).\n",
        "\n",
        "  Fancy Indexing and Boolean Masking: Powerful ways to select non-contiguous or conditional elements from arrays.\n",
        "\n",
        "  Fancy Indexing: Using arrays of integers (or booleans) to select subsets of data.\n",
        "\n",
        "  Boolean Masking: Using boolean arrays (resulting from conditional expressions) to select elements that satisfy certain conditions.\n",
        "\n",
        "  Memory Layout (Strides): Understanding how ndarray stores data in memory allows for highly optimized operations and views, avoiding unnecessary data copies.\n",
        "\n",
        "  Memory Mapping: Allowing arrays to be stored on disk but accessed and manipulated as if they were in memory, useful for very large datasets.\n",
        "\n",
        "  Structured Arrays: Arrays with elements that are like C structs, allowing fields with different data types (e.g., dtype={'names': ('name', 'age'), 'formats': ('U10', 'i4')}).\n",
        "\n",
        "  ndarray Views vs. Copies: Understanding when an operation returns a view (sharing memory with the original array) versus a copy (new memory) is crucial for avoiding unexpected side effects and optimizing performance.\n",
        "\n",
        "19.How does Pandas simplify time series analysis?\n",
        "\n",
        "  Pandas greatly simplifies time series analysis through:\n",
        "\n",
        "  DatetimeIndex: A specialized index type that understands dates and times, enabling efficient operations like time-based indexing, slicing, and resampling.\n",
        "\n",
        "  Date/Time Components Extraction: Easy extraction of year, month, day, hour, minute, second, day of week, etc., from datetime objects.\n",
        "\n",
        "  Resampling: Ability to change the frequency of time series data (e.g., from daily to monthly averages) with various aggregation methods.\n",
        "\n",
        "  Time-based Selection/Slicing: Intuitive ways to select data using date strings or time ranges (e.g., df['2023-01'], df['2023-01-01':'2023-01-31']).\n",
        "\n",
        "  Shifting/Lagging: Functions like shift() and diff() to easily compare values over different time periods.\n",
        "\n",
        "  Rolling/Expanding Windows: Support for calculating rolling or expanding window statistics (e.g., moving averages, standard deviations), essential for trend analysis and smoothing.\n",
        "\n",
        "  Handling Time Zones: Built-in capabilities to handle time zone localization and conversion.\n",
        "\n",
        "  Missing Data in Time Series: Specific methods to handle gaps or missing data in time series (e.g., fillna(method='ffill') for forward fill).\n",
        "\n",
        "20.What is the role of a pivot table in Pandas?\n",
        "\n",
        "  The pivot_table() function in Pandas is used to summarize and aggregate data from a DataFrame in a tabular format, similar to pivot tables in spreadsheet software like Excel. Its main roles are:\n",
        "\n",
        "  Data Aggregation: It aggregates data based on one or more grouping variables (rows and columns) and applies an aggregation function (e.g., sum, mean, count) to another variable.\n",
        "\n",
        "  Restructuring Data: It reshapes or \"pivots\" the data, transforming rows into columns and vice-versa, to provide a different view of the data.\n",
        "\n",
        "  Multi-dimensional Analysis: Allows for easy multi-dimensional analysis by defining index (rows), columns (columns), values (data to aggregate), and aggfunc (aggregation function).\n",
        "\n",
        "  Summarization: Provides a concise summary of large datasets, making it easier to identify trends, compare categories, and gain insights.\n",
        "\n",
        "21.Why is NumPy’s array slicing faster than Python’s list slicing?\n",
        "\n",
        "  NumPy array slicing is significantly faster than Python list slicing due to fundamental differences in their underlying implementations:\n",
        "\n",
        "  Contiguous Memory Allocation: NumPy arrays store their elements in a contiguous block of memory. When you slice a NumPy array, it often returns a view into the original array's memory, rather than creating a new copy. This avoids the overhead of memory allocation and copying. Python lists, on the other hand, store references to objects that can be scattered across memory.\n",
        "\n",
        "  Fixed Data Type: All elements in a NumPy array must be of the same data type. This uniformity allows for highly optimized, C-level operations on the entire block of memory, which includes slicing. Python lists can hold objects of different types, requiring more overhead and type checking during operations.\n",
        "\n",
        "  C Implementation: NumPy's core operations, including slicing, are implemented in C, which is much faster than Python's interpreted code. Python list slicing involves more Python-level object manipulations.\n",
        "\n",
        "  No Copy (often): For simple slices, NumPy often creates a \"view\" (a new array object that refers to the same data in memory as the original array but with a different shape/stride). This means no data is copied, making it extremely fast. Python list slicing always creates a new list object with new copies of the elements.\n",
        "\n",
        "22.What are some common use cases for Seaborn?\n",
        "  Seaborn is widely used for:\n",
        "\n",
        "  Exploratory Data Analysis (EDA): Quickly visualizing relationships, distributions, and patterns in datasets.\n",
        "\n",
        "   Univariate Distribution Plots: Creating histograms, KDE plots, and rug plots (histplot, kdeplot, displot) to understand the distribution of a single variable.\n",
        "\n",
        "  Bivariate Relationship Plots: Visualizing relationships between two variables using scatter plots (scatterplot), line plots (lineplot), and regression plots (regplot).\n",
        "\n",
        "  Categorical Data Plots: Displaying distributions or comparisons across different categories using box plots (boxplot), violin plots (violinplot), bar plots (barplot), and count plots (countplot).\n",
        "\n",
        "   Multi-variable Relationship Plots: Understanding relationships among multiple variables using pair plots (pairplot) and relational plots (relplot).\n",
        "\n",
        "   Matrix Plots: Visualizing data arranged in a grid, such as correlation matrices or heatmaps (heatmap).\n",
        "\n",
        "  Time Series Plots: Although Matplotlib handles the core, Seaborn can enhance time series visualizations with its aesthetic features and confidence intervals.\n",
        "\n",
        "   Statistical Model Visualization: Plotting residuals, confidence intervals, and other outputs from statistical models.\n",
        "\n",
        "   Creating Publication-Quality Graphics: Its default aesthetics and easy customization make it suitable for generating plots for reports and papers."
      ],
      "metadata": {
        "id": "jpXNexpZTAaa"
      }
    },
    {
      "cell_type": "markdown",
      "source": [
        "PRACTICAL QnA:"
      ],
      "metadata": {
        "id": "7JoE_4jUcWZz"
      }
    },
    {
      "cell_type": "code",
      "source": [
        "#1. Create a 2D NumPy array and calculate the sum of each row\n",
        "\n",
        "import numpy as np\n",
        "\n",
        "arr = np.array([[1, 2, 3], [4, 5, 6]])\n",
        "row_sum = np.sum(arr, axis=1)\n",
        "print(\"Row sums:\", row_sum)"
      ],
      "metadata": {
        "colab": {
          "base_uri": "https://localhost:8080/"
        },
        "id": "IdEjFWBldBEY",
        "outputId": "6f6e3453-a3d9-4713-8beb-00a174c738f7"
      },
      "execution_count": 1,
      "outputs": [
        {
          "output_type": "stream",
          "name": "stdout",
          "text": [
            "Row sums: [ 6 15]\n"
          ]
        }
      ]
    },
    {
      "cell_type": "code",
      "source": [
        "#2. Write a Pandas script to find the mean of a specific column in a DataFrame\n",
        "\n",
        "import pandas as pd\n",
        "\n",
        "df = pd.DataFrame({'Age': [25, 30, 35, 40]})\n",
        "mean_age = df['Age'].mean()\n",
        "print(\"Mean Age:\", mean_age)"
      ],
      "metadata": {
        "colab": {
          "base_uri": "https://localhost:8080/"
        },
        "id": "Eou-h5zKd80f",
        "outputId": "46f80d4b-e4a7-4a26-ba77-0fe2420271e9"
      },
      "execution_count": 2,
      "outputs": [
        {
          "output_type": "stream",
          "name": "stdout",
          "text": [
            "Mean Age: 32.5\n"
          ]
        }
      ]
    },
    {
      "cell_type": "code",
      "source": [
        "#3. Create a scatter plot using Matplotlib\n",
        "\n",
        "import matplotlib.pyplot as plt\n",
        "\n",
        "x = [1, 2, 3, 4]\n",
        "y = [10, 20, 25, 30]\n",
        "plt.scatter(x, y)\n",
        "plt.title(\"Scatter Plot\")\n",
        "plt.xlabel(\"X\")\n",
        "plt.ylabel(\"Y\")\n",
        "plt.show()"
      ],
      "metadata": {
        "colab": {
          "base_uri": "https://localhost:8080/",
          "height": 472
        },
        "id": "fcKo3wjgd887",
        "outputId": "f9982ba6-a9db-4cc4-f370-35f2d06c907d"
      },
      "execution_count": 3,
      "outputs": [
        {
          "output_type": "display_data",
          "data": {
            "text/plain": [
              "<Figure size 640x480 with 1 Axes>"
            ],
            "image/png": "[encoded data removed]"
          },
          "metadata": {}
        }
      ]
    },
    {
      "cell_type": "code",
      "source": [
        "#4. Calculate the correlation matrix using Seaborn and visualize with a heatmap\n",
        "\n",
        "import seaborn as sns\n",
        "import pandas as pd\n",
        "import matplotlib.pyplot as plt\n",
        "\n",
        "df = pd.DataFrame({\n",
        "    'A': [1, 2, 3, 4],\n",
        "    'B': [4, 3, 2, 1],\n",
        "    'C': [2, 3, 4, 5]\n",
        "})\n",
        "corr_matrix = df.corr()\n",
        "sns.heatmap(corr_matrix, annot=True, cmap='coolwarm')\n",
        "plt.title(\"Correlation Matrix Heatmap\")\n",
        "plt.show()"
      ],
      "metadata": {
        "colab": {
          "base_uri": "https://localhost:8080/",
          "height": 452
        },
        "id": "7mIUslvGd9FU",
        "outputId": "4c74bdbc-6728-4e14-f466-bf1c6594f8ce"
      },
      "execution_count": 4,
      "outputs": [
        {
          "output_type": "display_data",
          "data": {
            "text/plain": [
              "<Figure size 640x480 with 2 Axes>"
            ],
            "image/png": "[encoded data removed]"
          },
          "metadata": {}
        }
      ]
    },
    {
      "cell_type": "code",
      "source": [
        "#5. Generate a bar plot using Plotly\n",
        "\n",
        "import plotly.express as px\n",
        "\n",
        "data = {'Fruits': ['Apple', 'Banana', 'Orange'], 'Count': [10, 15, 7]}\n",
        "fig = px.bar(data, x='Fruits', y='Count', title=\"Fruit Count\")\n",
        "fig.show()"
      ],
      "metadata": {
        "colab": {
          "base_uri": "https://localhost:8080/",
          "height": 542
        },
        "id": "yLaJClsBd9Nt",
        "outputId": "c00e5304-bc2b-4587-aeee-2c5563126869"
      },
      "execution_count": 5,
      "outputs": [
        {
          "output_type": "display_data",
          "data": {
            "text/html": [
              "<html>\n",
              "<head><meta charset=\"utf-8\" /></head>\n",
              "<body>\n",
              "    <div>            <script src=\"https://cdnjs.cloudflare.com/ajax/libs/mathjax/2.7.5/MathJax.js?config=TeX-AMS-MML_SVG\"></script><script type=\"text/javascript\">if (window.MathJax && window.MathJax.Hub && window.MathJax.Hub.Config) {window.MathJax.Hub.Config({SVG: {font: \"STIX-Web\"}});}</script>                <script type=\"text/javascript\">window.PlotlyConfig = {MathJaxConfig: 'local'};</script>\n",
              "        <script charset=\"utf-8\" src=\"https://cdn.plot.ly/plotly-2.35.2.min.js\"></script>                <div id=\"97a7faa9-0ffe-4a3c-a9ff-b72ae3e997ca\" class=\"plotly-graph-div\" style=\"height:525px; width:100%;\"></div>            <script type=\"text/javascript\">                                    window.PLOTLYENV=window.PLOTLYENV || {};                                    if (document.getElementById(\"97a7faa9-0ffe-4a3c-a9ff-b72ae3e997ca\")) {                    Plotly.newPlot(                        \"97a7faa9-0ffe-4a3c-a9ff-b72ae3e997ca\",                        [{\"alignmentgroup\":\"True\",\"hovertemplate\":\"Fruits=%{x}\\u003cbr\\u003eCount=%{y}\\u003cextra\\u003e\\u003c\\u002fextra\\u003e\",\"legendgroup\":\"\",\"marker\":{\"color\":\"#636efa\",\"pattern\":{\"shape\":\"\"}},\"name\":\"\",\"offsetgroup\":\"\",\"orientation\":\"v\",\"showlegend\":false,\"textposition\":\"auto\",\"x\":[\"Apple\",\"Banana\",\"Orange\"],\"xaxis\":\"x\",\"y\":[10,15,7],\"yaxis\":\"y\",\"type\":\"bar\"}],                        {\"template\":{\"data\":{\"histogram2dcontour\":[{\"type\":\"histogram2dcontour\",\"colorbar\":{\"outlinewidth\":0,\"ticks\":\"\"},\"colorscale\":[[0.0,\"#0d0887\"],[0.1111111111111111,\"#46039f\"],[0.2222222222222222,\"#7201a8\"],[0.3333333333333333,\"#9c179e\"],[0.4444444444444444,\"#bd3786\"],[0.5555555555555556,\"#d8576b\"],[0.6666666666666666,\"#ed7953\"],[0.7777777777777778,\"#fb9f3a\"],[0.8888888888888888,\"#fdca26\"],[1.0,\"#f0f921\"]]}],\"choropleth\":[{\"type\":\"choropleth\",\"colorbar\":{\"outlinewidth\":0,\"ticks\":\"\"}}],\"histogram2d\":[{\"type\":\"histogram2d\",\"colorbar\":{\"outlinewidth\":0,\"ticks\":\"\"},\"colorscale\":[[0.0,\"#0d0887\"],[0.1111111111111111,\"#46039f\"],[0.2222222222222222,\"#7201a8\"],[0.3333333333333333,\"#9c179e\"],[0.4444444444444444,\"#bd3786\"],[0.5555555555555556,\"#d8576b\"],[0.6666666666666666,\"#ed7953\"],[0.7777777777777778,\"#fb9f3a\"],[0.8888888888888888,\"#fdca26\"],[1.0,\"#f0f921\"]]}],\"heatmap\":[{\"type\":\"heatmap\",\"colorbar\":{\"outlinewidth\":0,\"ticks\":\"\"},\"colorscale\":[[0.0,\"#0d0887\"],[0.1111111111111111,\"#46039f\"],[0.2222222222222222,\"#7201a8\"],[0.3333333333333333,\"#9c179e\"],[0.4444444444444444,\"#bd3786\"],[0.5555555555555556,\"#d8576b\"],[0.6666666666666666,\"#ed7953\"],[0.7777777777777778,\"#fb9f3a\"],[0.8888888888888888,\"#fdca26\"],[1.0,\"#f0f921\"]]}],\"heatmapgl\":[{\"type\":\"heatmapgl\",\"colorbar\":{\"outlinewidth\":0,\"ticks\":\"\"},\"colorscale\":[[0.0,\"#0d0887\"],[0.1111111111111111,\"#46039f\"],[0.2222222222222222,\"#7201a8\"],[0.3333333333333333,\"#9c179e\"],[0.4444444444444444,\"#bd3786\"],[0.5555555555555556,\"#d8576b\"],[0.6666666666666666,\"#ed7953\"],[0.7777777777777778,\"#fb9f3a\"],[0.8888888888888888,\"#fdca26\"],[1.0,\"#f0f921\"]]}],\"contourcarpet\":[{\"type\":\"contourcarpet\",\"colorbar\":{\"outlinewidth\":0,\"ticks\":\"\"}}],\"contour\":[{\"type\":\"contour\",\"colorbar\":{\"outlinewidth\":0,\"ticks\":\"\"},\"colorscale\":[[0.0,\"#0d0887\"],[0.1111111111111111,\"#46039f\"],[0.2222222222222222,\"#7201a8\"],[0.3333333333333333,\"#9c179e\"],[0.4444444444444444,\"#bd3786\"],[0.5555555555555556,\"#d8576b\"],[0.6666666666666666,\"#ed7953\"],[0.7777777777777778,\"#fb9f3a\"],[0.8888888888888888,\"#fdca26\"],[1.0,\"#f0f921\"]]}],\"surface\":[{\"type\":\"surface\",\"colorbar\":{\"outlinewidth\":0,\"ticks\":\"\"},\"colorscale\":[[0.0,\"#0d0887\"],[0.1111111111111111,\"#46039f\"],[0.2222222222222222,\"#7201a8\"],[0.3333333333333333,\"#9c179e\"],[0.4444444444444444,\"#bd3786\"],[0.5555555555555556,\"#d8576b\"],[0.6666666666666666,\"#ed7953\"],[0.7777777777777778,\"#fb9f3a\"],[0.8888888888888888,\"#fdca26\"],[1.0,\"#f0f921\"]]}],\"mesh3d\":[{\"type\":\"mesh3d\",\"colorbar\":{\"outlinewidth\":0,\"ticks\":\"\"}}],\"scatter\":[{\"fillpattern\":{\"fillmode\":\"overlay\",\"size\":10,\"solidity\":0.2},\"type\":\"scatter\"}],\"parcoords\":[{\"type\":\"parcoords\",\"line\":{\"colorbar\":{\"outlinewidth\":0,\"ticks\":\"\"}}}],\"scatterpolargl\":[{\"type\":\"scatterpolargl\",\"marker\":{\"colorbar\":{\"outlinewidth\":0,\"ticks\":\"\"}}}],\"bar\":[{\"error_x\":{\"color\":\"#2a3f5f\"},\"error_y\":{\"color\":\"#2a3f5f\"},\"marker\":{\"line\":{\"color\":\"#E5ECF6\",\"width\":0.5},\"pattern\":{\"fillmode\":\"overlay\",\"size\":10,\"solidity\":0.2}},\"type\":\"bar\"}],\"scattergeo\":[{\"type\":\"scattergeo\",\"marker\":{\"colorbar\":{\"outlinewidth\":0,\"ticks\":\"\"}}}],\"scatterpolar\":[{\"type\":\"scatterpolar\",\"marker\":{\"colorbar\":{\"outlinewidth\":0,\"ticks\":\"\"}}}],\"histogram\":[{\"marker\":{\"pattern\":{\"fillmode\":\"overlay\",\"size\":10,\"solidity\":0.2}},\"type\":\"histogram\"}],\"scattergl\":[{\"type\":\"scattergl\",\"marker\":{\"colorbar\":{\"outlinewidth\":0,\"ticks\":\"\"}}}],\"scatter3d\":[{\"type\":\"scatter3d\",\"line\":{\"colorbar\":{\"outlinewidth\":0,\"ticks\":\"\"}},\"marker\":{\"colorbar\":{\"outlinewidth\":0,\"ticks\":\"\"}}}],\"scattermapbox\":[{\"type\":\"scattermapbox\",\"marker\":{\"colorbar\":{\"outlinewidth\":0,\"ticks\":\"\"}}}],\"scatterternary\":[{\"type\":\"scatterternary\",\"marker\":{\"colorbar\":{\"outlinewidth\":0,\"ticks\":\"\"}}}],\"scattercarpet\":[{\"type\":\"scattercarpet\",\"marker\":{\"colorbar\":{\"outlinewidth\":0,\"ticks\":\"\"}}}],\"carpet\":[{\"aaxis\":{\"endlinecolor\":\"#2a3f5f\",\"gridcolor\":\"white\",\"linecolor\":\"white\",\"minorgridcolor\":\"white\",\"startlinecolor\":\"#2a3f5f\"},\"baxis\":{\"endlinecolor\":\"#2a3f5f\",\"gridcolor\":\"white\",\"linecolor\":\"white\",\"minorgridcolor\":\"white\",\"startlinecolor\":\"#2a3f5f\"},\"type\":\"carpet\"}],\"table\":[{\"cells\":{\"fill\":{\"color\":\"#EBF0F8\"},\"line\":{\"color\":\"white\"}},\"header\":{\"fill\":{\"color\":\"#C8D4E3\"},\"line\":{\"color\":\"white\"}},\"type\":\"table\"}],\"barpolar\":[{\"marker\":{\"line\":{\"color\":\"#E5ECF6\",\"width\":0.5},\"pattern\":{\"fillmode\":\"overlay\",\"size\":10,\"solidity\":0.2}},\"type\":\"barpolar\"}],\"pie\":[{\"automargin\":true,\"type\":\"pie\"}]},\"layout\":{\"autotypenumbers\":\"strict\",\"colorway\":[\"#636efa\",\"#EF553B\",\"#00cc96\",\"#ab63fa\",\"#FFA15A\",\"#19d3f3\",\"#FF6692\",\"#B6E880\",\"#FF97FF\",\"#FECB52\"],\"font\":{\"color\":\"#2a3f5f\"},\"hovermode\":\"closest\",\"hoverlabel\":{\"align\":\"left\"},\"paper_bgcolor\":\"white\",\"plot_bgcolor\":\"#E5ECF6\",\"polar\":{\"bgcolor\":\"#E5ECF6\",\"angularaxis\":{\"gridcolor\":\"white\",\"linecolor\":\"white\",\"ticks\":\"\"},\"radialaxis\":{\"gridcolor\":\"white\",\"linecolor\":\"white\",\"ticks\":\"\"}},\"ternary\":{\"bgcolor\":\"#E5ECF6\",\"aaxis\":{\"gridcolor\":\"white\",\"linecolor\":\"white\",\"ticks\":\"\"},\"baxis\":{\"gridcolor\":\"white\",\"linecolor\":\"white\",\"ticks\":\"\"},\"caxis\":{\"gridcolor\":\"white\",\"linecolor\":\"white\",\"ticks\":\"\"}},\"coloraxis\":{\"colorbar\":{\"outlinewidth\":0,\"ticks\":\"\"}},\"colorscale\":{\"sequential\":[[0.0,\"#0d0887\"],[0.1111111111111111,\"#46039f\"],[0.2222222222222222,\"#7201a8\"],[0.3333333333333333,\"#9c179e\"],[0.4444444444444444,\"#bd3786\"],[0.5555555555555556,\"#d8576b\"],[0.6666666666666666,\"#ed7953\"],[0.7777777777777778,\"#fb9f3a\"],[0.8888888888888888,\"#fdca26\"],[1.0,\"#f0f921\"]],\"sequentialminus\":[[0.0,\"#0d0887\"],[0.1111111111111111,\"#46039f\"],[0.2222222222222222,\"#7201a8\"],[0.3333333333333333,\"#9c179e\"],[0.4444444444444444,\"#bd3786\"],[0.5555555555555556,\"#d8576b\"],[0.6666666666666666,\"#ed7953\"],[0.7777777777777778,\"#fb9f3a\"],[0.8888888888888888,\"#fdca26\"],[1.0,\"#f0f921\"]],\"diverging\":[[0,\"#8e0152\"],[0.1,\"#c51b7d\"],[0.2,\"#de77ae\"],[0.3,\"#f1b6da\"],[0.4,\"#fde0ef\"],[0.5,\"#f7f7f7\"],[0.6,\"#e6f5d0\"],[0.7,\"#b8e186\"],[0.8,\"#7fbc41\"],[0.9,\"#4d9221\"],[1,\"#276419\"]]},\"xaxis\":{\"gridcolor\":\"white\",\"linecolor\":\"white\",\"ticks\":\"\",\"title\":{\"standoff\":15},\"zerolinecolor\":\"white\",\"automargin\":true,\"zerolinewidth\":2},\"yaxis\":{\"gridcolor\":\"white\",\"linecolor\":\"white\",\"ticks\":\"\",\"title\":{\"standoff\":15},\"zerolinecolor\":\"white\",\"automargin\":true,\"zerolinewidth\":2},\"scene\":{\"xaxis\":{\"backgroundcolor\":\"#E5ECF6\",\"gridcolor\":\"white\",\"linecolor\":\"white\",\"showbackground\":true,\"ticks\":\"\",\"zerolinecolor\":\"white\",\"gridwidth\":2},\"yaxis\":{\"backgroundcolor\":\"#E5ECF6\",\"gridcolor\":\"white\",\"linecolor\":\"white\",\"showbackground\":true,\"ticks\":\"\",\"zerolinecolor\":\"white\",\"gridwidth\":2},\"zaxis\":{\"backgroundcolor\":\"#E5ECF6\",\"gridcolor\":\"white\",\"linecolor\":\"white\",\"showbackground\":true,\"ticks\":\"\",\"zerolinecolor\":\"white\",\"gridwidth\":2}},\"shapedefaults\":{\"line\":{\"color\":\"#2a3f5f\"}},\"annotationdefaults\":{\"arrowcolor\":\"#2a3f5f\",\"arrowhead\":0,\"arrowwidth\":1},\"geo\":{\"bgcolor\":\"white\",\"landcolor\":\"#E5ECF6\",\"subunitcolor\":\"white\",\"showland\":true,\"showlakes\":true,\"lakecolor\":\"white\"},\"title\":{\"x\":0.05},\"mapbox\":{\"style\":\"light\"}}},\"xaxis\":{\"anchor\":\"y\",\"domain\":[0.0,1.0],\"title\":{\"text\":\"Fruits\"}},\"yaxis\":{\"anchor\":\"x\",\"domain\":[0.0,1.0],\"title\":{\"text\":\"Count\"}},\"legend\":{\"tracegroupgap\":0},\"title\":{\"text\":\"Fruit Count\"},\"barmode\":\"relative\"},                        {\"responsive\": true}                    ).then(function(){\n",
              "                            \n",
              "var gd = document.getElementById('97a7faa9-0ffe-4a3c-a9ff-b72ae3e997ca');\n",
              "var x = new MutationObserver(function (mutations, observer) {{\n",
              "        var display = window.getComputedStyle(gd).display;\n",
              "        if (!display || display === 'none') {{\n",
              "            console.log([gd, 'removed!']);\n",
              "            Plotly.purge(gd);\n",
              "            observer.disconnect();\n",
              "        }}\n",
              "}});\n",
              "\n",
              "// Listen for the removal of the full notebook cells\n",
              "var notebookContainer = gd.closest('#notebook-container');\n",
              "if (notebookContainer) {{\n",
              "    x.observe(notebookContainer, {childList: true});\n",
              "}}\n",
              "\n",
              "// Listen for the clearing of the current output cell\n",
              "var outputEl = gd.closest('.output');\n",
              "if (outputEl) {{\n",
              "    x.observe(outputEl, {childList: true});\n",
              "}}\n",
              "\n",
              "                        })                };                            </script>        </div>\n",
              "</body>\n",
              "</html>"
            ]
          },
          "metadata": {}
        }
      ]
    },
    {
      "cell_type": "code",
      "source": [
        "#6. Create a DataFrame and add a new column based on an existing column\n",
        "\n",
        "import pandas as pd\n",
        "\n",
        "df = pd.DataFrame({'Salary': [30000, 50000, 70000]})\n",
        "df['Tax'] = df['Salary'] * 0.1\n",
        "print(df)"
      ],
      "metadata": {
        "colab": {
          "base_uri": "https://localhost:8080/"
        },
        "id": "CJfCUFiUd9Q7",
        "outputId": "d5f23366-59ae-41bb-c986-2e53198e3445"
      },
      "execution_count": 6,
      "outputs": [
        {
          "output_type": "stream",
          "name": "stdout",
          "text": [
            "   Salary     Tax\n",
            "0   30000  3000.0\n",
            "1   50000  5000.0\n",
            "2   70000  7000.0\n"
          ]
        }
      ]
    },
    {
      "cell_type": "code",
      "source": [
        "#7. Perform element-wise multiplication of two NumPy arrays\n",
        "\n",
        "import numpy as np\n",
        "\n",
        "a = np.array([1, 2, 3])\n",
        "b = np.array([4, 5, 6])\n",
        "result = a * b\n",
        "print(\"Element-wise multiplication:\", result)"
      ],
      "metadata": {
        "colab": {
          "base_uri": "https://localhost:8080/"
        },
        "id": "rdt7nh-fd9UY",
        "outputId": "d1cebd4c-2657-47be-afd6-e006791e9b46"
      },
      "execution_count": 7,
      "outputs": [
        {
          "output_type": "stream",
          "name": "stdout",
          "text": [
            "Element-wise multiplication: [ 4 10 18]\n"
          ]
        }
      ]
    },
    {
      "cell_type": "code",
      "source": [
        "#8. Create a line plot with multiple lines using Matplotlib\n",
        "\n",
        "import matplotlib.pyplot as plt\n",
        "\n",
        "x = [1, 2, 3, 4]\n",
        "y1 = [10, 20, 30, 40]\n",
        "y2 = [5, 15, 25, 35]\n",
        "plt.plot(x, y1, label='Line 1')\n",
        "plt.plot(x, y2, label='Line 2')\n",
        "plt.legend()\n",
        "plt.title(\"Multiple Line Plot\")\n",
        "plt.show()"
      ],
      "metadata": {
        "colab": {
          "base_uri": "https://localhost:8080/",
          "height": 452
        },
        "id": "aE-1LMGrd9Xp",
        "outputId": "ca47a13d-7c68-4030-b91f-594117cb5c60"
      },
      "execution_count": 8,
      "outputs": [
        {
          "output_type": "display_data",
          "data": {
            "text/plain": [
              "<Figure size 640x480 with 1 Axes>"
            ],
            "image/png": "[encoded data removed]"
          },
          "metadata": {}
        }
      ]
    },
    {
      "cell_type": "code",
      "source": [
        "#9. Generate a Pandas DataFrame and filter rows where a column value is greater than a threshold\n",
        "\n",
        "import pandas as pd\n",
        "\n",
        "df = pd.DataFrame({'Score': [60, 75, 45, 90]})\n",
        "filtered_df = df[df['Score'] > 70]\n",
        "print(filtered_df)"
      ],
      "metadata": {
        "colab": {
          "base_uri": "https://localhost:8080/"
        },
        "id": "_svDyaaEd9bN",
        "outputId": "961d1c06-5db6-4dff-a53b-349048605d75"
      },
      "execution_count": 9,
      "outputs": [
        {
          "output_type": "stream",
          "name": "stdout",
          "text": [
            "   Score\n",
            "1     75\n",
            "3     90\n"
          ]
        }
      ]
    },
    {
      "cell_type": "code",
      "source": [
        "#10. Create a histogram using Seaborn to visualize a distribution\n",
        "\n",
        "import seaborn as sns\n",
        "import matplotlib.pyplot as plt\n",
        "\n",
        "data = [1, 2, 2, 3, 3, 3, 4, 4, 5]\n",
        "sns.histplot(data, bins=5, kde=True)\n",
        "plt.title(\"Histogram\")\n",
        "plt.show()"
      ],
      "metadata": {
        "colab": {
          "base_uri": "https://localhost:8080/",
          "height": 452
        },
        "id": "4_JaLgk4d9ez",
        "outputId": "53fb908d-be98-4145-bafb-1194224dfcd4"
      },
      "execution_count": 10,
      "outputs": [
        {
          "output_type": "display_data",
          "data": {
            "text/plain": [
              "<Figure size 640x480 with 1 Axes>"
            ],
            "image/png": "[encoded data removed]"
          },
          "metadata": {}
        }
      ]
    },
    {
      "cell_type": "code",
      "source": [
        "#11. Perform matrix multiplication using NumPy\n",
        "\n",
        "import numpy as np\n",
        "\n",
        "A = np.array([[1, 2], [3, 4]])\n",
        "B = np.array([[2, 0], [1, 2]])\n",
        "result = np.dot(A, B)\n",
        "print(\"Matrix multiplication:\\n\", result)"
      ],
      "metadata": {
        "colab": {
          "base_uri": "https://localhost:8080/"
        },
        "id": "XMWFMlGHd9in",
        "outputId": "336ec68b-c662-44c7-e031-d7547a202d5f"
      },
      "execution_count": 11,
      "outputs": [
        {
          "output_type": "stream",
          "name": "stdout",
          "text": [
            "Matrix multiplication:\n",
            " [[ 4  4]\n",
            " [10  8]]\n"
          ]
        }
      ]
    },
    {
      "cell_type": "code",
      "source": [
        "#12. Use Pandas to load a CSV file and display its first 5 rows\n",
        "from google.colab import files\n",
        "uploaded = files.upload()\n",
        "import pandas as pd\n",
        "\n",
        "df = pd.read_csv('datasheet.csv')\n",
        "print(df.head())"
      ],
      "metadata": {
        "colab": {
          "base_uri": "https://localhost:8080/",
          "height": 552
        },
        "id": "Brn3Z7aHfA36",
        "outputId": "06b82de8-4d9d-4723-b62d-2a2fc09a62c8"
      },
      "execution_count": 19,
      "outputs": [
        {
          "output_type": "display_data",
          "data": {
            "text/plain": [
              "<IPython.core.display.HTML object>"
            ],
            "text/html": [
              "\n",
              "     <input type=\"file\" id=\"files-0209dcf9-16a2-4f51-8782-4f8f9272072f\" name=\"files[]\" multiple disabled\n",
              "        style=\"border:none\" />\n",
              "     <output id=\"result-0209dcf9-16a2-4f51-8782-4f8f9272072f\">\n",
              "      Upload widget is only available when the cell has been executed in the\n",
              "      current browser session. Please rerun this cell to enable.\n",
              "      </output>\n",
              "      <script>// Copyright 2017 Google LLC\n",
              "//\n",
              "// Licensed under the Apache License, Version 2.0 (the \"License\");\n",
              "// you may not use this file except in compliance with the License.\n",
              "// You may obtain a copy of the License at\n",
              "//\n",
              "//      http://www.apache.org/licenses/LICENSE-2.0\n",
              "//\n",
              "// Unless required by applicable law or agreed to in writing, software\n",
              "// distributed under the License is distributed on an \"AS IS\" BASIS,\n",
              "// WITHOUT WARRANTIES OR CONDITIONS OF ANY KIND, either express or implied.\n",
              "// See the License for the specific language governing permissions and\n",
              "// limitations under the License.\n",
              "\n",
              "/**\n",
              " * @fileoverview Helpers for google.colab Python module.\n",
              " */\n",
              "(function(scope) {\n",
              "function span(text, styleAttributes = {}) {\n",
              "  const element = document.createElement('span');\n",
              "  element.textContent = text;\n",
              "  for (const key of Object.keys(styleAttributes)) {\n",
              "    element.style[key] = styleAttributes[key];\n",
              "  }\n",
              "  return element;\n",
              "}\n",
              "\n",
              "// Max number of bytes which will be uploaded at a time.\n",
              "const MAX_PAYLOAD_SIZE = 100 * 1024;\n",
              "\n",
              "function _uploadFiles(inputId, outputId) {\n",
              "  const steps = uploadFilesStep(inputId, outputId);\n",
              "  const outputElement = document.getElementById(outputId);\n",
              "  // Cache steps on the outputElement to make it available for the next call\n",
              "  // to uploadFilesContinue from Python.\n",
              "  outputElement.steps = steps;\n",
              "\n",
              "  return _uploadFilesContinue(outputId);\n",
              "}\n",
              "\n",
              "// This is roughly an async generator (not supported in the browser yet),\n",
              "// where there are multiple asynchronous steps and the Python side is going\n",
              "// to poll for completion of each step.\n",
              "// This uses a Promise to block the python side on completion of each step,\n",
              "// then passes the result of the previous step as the input to the next step.\n",
              "function _uploadFilesContinue(outputId) {\n",
              "  const outputElement = document.getElementById(outputId);\n",
              "  const steps = outputElement.steps;\n",
              "\n",
              "  const next = steps.next(outputElement.lastPromiseValue);\n",
              "  return Promise.resolve(next.value.promise).then((value) => {\n",
              "    // Cache the last promise value to make it available to the next\n",
              "    // step of the generator.\n",
              "    outputElement.lastPromiseValue = value;\n",
              "    return next.value.response;\n",
              "  });\n",
              "}\n",
              "\n",
              "/**\n",
              " * Generator function which is called between each async step of the upload\n",
              " * process.\n",
              " * @param {string} inputId Element ID of the input file picker element.\n",
              " * @param {string} outputId Element ID of the output display.\n",
              " * @return {!Iterable<!Object>} Iterable of next steps.\n",
              " */\n",
              "function* uploadFilesStep(inputId, outputId) {\n",
              "  const inputElement = document.getElementById(inputId);\n",
              "  inputElement.disabled = false;\n",
              "\n",
              "  const outputElement = document.getElementById(outputId);\n",
              "  outputElement.innerHTML = '';\n",
              "\n",
              "  const pickedPromise = new Promise((resolve) => {\n",
              "    inputElement.addEventListener('change', (e) => {\n",
              "      resolve(e.target.files);\n",
              "    });\n",
              "  });\n",
              "\n",
              "  const cancel = document.createElement('button');\n",
              "  inputElement.parentElement.appendChild(cancel);\n",
              "  cancel.textContent = 'Cancel upload';\n",
              "  const cancelPromise = new Promise((resolve) => {\n",
              "    cancel.onclick = () => {\n",
              "      resolve(null);\n",
              "    };\n",
              "  });\n",
              "\n",
              "  // Wait for the user to pick the files.\n",
              "  const files = yield {\n",
              "    promise: Promise.race([pickedPromise, cancelPromise]),\n",
              "    response: {\n",
              "      action: 'starting',\n",
              "    }\n",
              "  };\n",
              "\n",
              "  cancel.remove();\n",
              "\n",
              "  // Disable the input element since further picks are not allowed.\n",
              "  inputElement.disabled = true;\n",
              "\n",
              "  if (!files) {\n",
              "    return {\n",
              "      response: {\n",
              "        action: 'complete',\n",
              "      }\n",
              "    };\n",
              "  }\n",
              "\n",
              "  for (const file of files) {\n",
              "    const li = document.createElement('li');\n",
              "    li.append(span(file.name, {fontWeight: 'bold'}));\n",
              "    li.append(span(\n",
              "        `(${file.type || 'n/a'}) - ${file.size} bytes, ` +\n",
              "        `last modified: ${\n",
              "            file.lastModifiedDate ? file.lastModifiedDate.toLocaleDateString() :\n",
              "                                    'n/a'} - `));\n",
              "    const percent = span('0% done');\n",
              "    li.appendChild(percent);\n",
              "\n",
              "    outputElement.appendChild(li);\n",
              "\n",
              "    const fileDataPromise = new Promise((resolve) => {\n",
              "      const reader = new FileReader();\n",
              "      reader.onload = (e) => {\n",
              "        resolve(e.target.result);\n",
              "      };\n",
              "      reader.readAsArrayBuffer(file);\n",
              "    });\n",
              "    // Wait for the data to be ready.\n",
              "    let fileData = yield {\n",
              "      promise: fileDataPromise,\n",
              "      response: {\n",
              "        action: 'continue',\n",
              "      }\n",
              "    };\n",
              "\n",
              "    // Use a chunked sending to avoid message size limits. See b/62115660.\n",
              "    let position = 0;\n",
              "    do {\n",
              "      const length = Math.min(fileData.byteLength - position, MAX_PAYLOAD_SIZE);\n",
              "      const chunk = new Uint8Array(fileData, position, length);\n",
              "      position += length;\n",
              "\n",
              "      const base64 = btoa(String.fromCharCode.apply(null, chunk));\n",
              "      yield {\n",
              "        response: {\n",
              "          action: 'append',\n",
              "          file: file.name,\n",
              "          data: base64,\n",
              "        },\n",
              "      };\n",
              "\n",
              "      let percentDone = fileData.byteLength === 0 ?\n",
              "          100 :\n",
              "          Math.round((position / fileData.byteLength) * 100);\n",
              "      percent.textContent = `${percentDone}% done`;\n",
              "\n",
              "    } while (position < fileData.byteLength);\n",
              "  }\n",
              "\n",
              "  // All done.\n",
              "  yield {\n",
              "    response: {\n",
              "      action: 'complete',\n",
              "    }\n",
              "  };\n",
              "}\n",
              "\n",
              "scope.google = scope.google || {};\n",
              "scope.google.colab = scope.google.colab || {};\n",
              "scope.google.colab._files = {\n",
              "  _uploadFiles,\n",
              "  _uploadFilesContinue,\n",
              "};\n",
              "})(self);\n",
              "</script> "
            ]
          },
          "metadata": {}
        },
        {
          "output_type": "stream",
          "name": "stdout",
          "text": [
            "Saving datasheet.csv to datasheet.csv\n",
            "   Index      Customer Id First Name Last Name           Company  \\\n",
            "0      1  f8463F562c58a0E   Cheyenne    Waller     Mueller Group   \n",
            "1      2  F015Cc697A7fC44     Alisha     Marsh         Hood-Ross   \n",
            "2      3  ccfD2BEDbb7C58e      Lance    Dunlap         Bass-Carr   \n",
            "3      4  cdFbd68a8b6290f    Ricardo     Rojas   Barnett-Nielsen   \n",
            "4      5  8DfD5cc318e620a        Kim   Carlson  Mccullough-Eaton   \n",
            "\n",
            "              City                 Country            Phone 1  \\\n",
            "0     Ortizchester              Luxembourg         2868804914   \n",
            "1  East Isaiahport                 Reunion  536.961.6286x6057   \n",
            "2      Whitneybury                 Vietnam       872-461-5090   \n",
            "3       West Cathy                 Ireland       719.744.0771   \n",
            "4       Port Bryan  British Virgin Islands            #ERROR!   \n",
            "\n",
            "               Phone 2                   Email Subscription Date  \\\n",
            "0   596.613.4851x55997    justin98@oconnor.com        2022-06-03   \n",
            "1  (429)216-4777x46422  albert38@middleton.com        2024-01-03   \n",
            "2    247.985.9451x6005     uterry@anderson.com        2022-07-25   \n",
            "3  (664)284-2976x53519   whendricks@waller.com        2021-01-26   \n",
            "4           8654372118  gallaghermike@pena.com        2023-10-08   \n",
            "\n",
            "                           Website  \n",
            "0              https://warren.biz/  \n",
            "1    https://carney-mccormick.com/  \n",
            "2  https://www.bernard-mayer.info/  \n",
            "3           http://www.clarke.org/  \n",
            "4              https://wolfe.info/  \n"
          ]
        }
      ]
    },
    {
      "cell_type": "code",
      "source": [
        "#13. Create a 3D scatter plot using Plotly\n",
        "\n",
        "import plotly.express as px\n",
        "import pandas as pd\n",
        "\n",
        "df = pd.DataFrame({\n",
        "    'x': [1, 2, 3, 4],\n",
        "    'y': [10, 15, 13, 17],\n",
        "    'z': [5, 6, 7, 8]\n",
        "})\n",
        "fig = px.scatter_3d(df, x='x', y='y', z='z', title=\"3D Scatter Plot\")\n",
        "fig.show()"
      ],
      "metadata": {
        "colab": {
          "base_uri": "https://localhost:8080/",
          "height": 542
        },
        "id": "AK-opYIOfBxT",
        "outputId": "9a4bc1a1-99e6-4a19-aa26-a3052ca0f327"
      },
      "execution_count": 20,
      "outputs": [
        {
          "output_type": "display_data",
          "data": {
            "text/html": [
              "<html>\n",
              "<head><meta charset=\"utf-8\" /></head>\n",
              "<body>\n",
              "    <div>            <script src=\"https://cdnjs.cloudflare.com/ajax/libs/mathjax/2.7.5/MathJax.js?config=TeX-AMS-MML_SVG\"></script><script type=\"text/javascript\">if (window.MathJax && window.MathJax.Hub && window.MathJax.Hub.Config) {window.MathJax.Hub.Config({SVG: {font: \"STIX-Web\"}});}</script>                <script type=\"text/javascript\">window.PlotlyConfig = {MathJaxConfig: 'local'};</script>\n",
              "        <script charset=\"utf-8\" src=\"https://cdn.plot.ly/plotly-2.35.2.min.js\"></script>                <div id=\"235b7373-ff90-41bb-bda9-d44bef304973\" class=\"plotly-graph-div\" style=\"height:525px; width:100%;\"></div>            <script type=\"text/javascript\">                                    window.PLOTLYENV=window.PLOTLYENV || {};                                    if (document.getElementById(\"235b7373-ff90-41bb-bda9-d44bef304973\")) {                    Plotly.newPlot(                        \"235b7373-ff90-41bb-bda9-d44bef304973\",                        [{\"hovertemplate\":\"x=%{x}\\u003cbr\\u003ey=%{y}\\u003cbr\\u003ez=%{z}\\u003cextra\\u003e\\u003c\\u002fextra\\u003e\",\"legendgroup\":\"\",\"marker\":{\"color\":\"#636efa\",\"symbol\":\"circle\"},\"mode\":\"markers\",\"name\":\"\",\"scene\":\"scene\",\"showlegend\":false,\"x\":[1,2,3,4],\"y\":[10,15,13,17],\"z\":[5,6,7,8],\"type\":\"scatter3d\"}],                        {\"template\":{\"data\":{\"histogram2dcontour\":[{\"type\":\"histogram2dcontour\",\"colorbar\":{\"outlinewidth\":0,\"ticks\":\"\"},\"colorscale\":[[0.0,\"#0d0887\"],[0.1111111111111111,\"#46039f\"],[0.2222222222222222,\"#7201a8\"],[0.3333333333333333,\"#9c179e\"],[0.4444444444444444,\"#bd3786\"],[0.5555555555555556,\"#d8576b\"],[0.6666666666666666,\"#ed7953\"],[0.7777777777777778,\"#fb9f3a\"],[0.8888888888888888,\"#fdca26\"],[1.0,\"#f0f921\"]]}],\"choropleth\":[{\"type\":\"choropleth\",\"colorbar\":{\"outlinewidth\":0,\"ticks\":\"\"}}],\"histogram2d\":[{\"type\":\"histogram2d\",\"colorbar\":{\"outlinewidth\":0,\"ticks\":\"\"},\"colorscale\":[[0.0,\"#0d0887\"],[0.1111111111111111,\"#46039f\"],[0.2222222222222222,\"#7201a8\"],[0.3333333333333333,\"#9c179e\"],[0.4444444444444444,\"#bd3786\"],[0.5555555555555556,\"#d8576b\"],[0.6666666666666666,\"#ed7953\"],[0.7777777777777778,\"#fb9f3a\"],[0.8888888888888888,\"#fdca26\"],[1.0,\"#f0f921\"]]}],\"heatmap\":[{\"type\":\"heatmap\",\"colorbar\":{\"outlinewidth\":0,\"ticks\":\"\"},\"colorscale\":[[0.0,\"#0d0887\"],[0.1111111111111111,\"#46039f\"],[0.2222222222222222,\"#7201a8\"],[0.3333333333333333,\"#9c179e\"],[0.4444444444444444,\"#bd3786\"],[0.5555555555555556,\"#d8576b\"],[0.6666666666666666,\"#ed7953\"],[0.7777777777777778,\"#fb9f3a\"],[0.8888888888888888,\"#fdca26\"],[1.0,\"#f0f921\"]]}],\"heatmapgl\":[{\"type\":\"heatmapgl\",\"colorbar\":{\"outlinewidth\":0,\"ticks\":\"\"},\"colorscale\":[[0.0,\"#0d0887\"],[0.1111111111111111,\"#46039f\"],[0.2222222222222222,\"#7201a8\"],[0.3333333333333333,\"#9c179e\"],[0.4444444444444444,\"#bd3786\"],[0.5555555555555556,\"#d8576b\"],[0.6666666666666666,\"#ed7953\"],[0.7777777777777778,\"#fb9f3a\"],[0.8888888888888888,\"#fdca26\"],[1.0,\"#f0f921\"]]}],\"contourcarpet\":[{\"type\":\"contourcarpet\",\"colorbar\":{\"outlinewidth\":0,\"ticks\":\"\"}}],\"contour\":[{\"type\":\"contour\",\"colorbar\":{\"outlinewidth\":0,\"ticks\":\"\"},\"colorscale\":[[0.0,\"#0d0887\"],[0.1111111111111111,\"#46039f\"],[0.2222222222222222,\"#7201a8\"],[0.3333333333333333,\"#9c179e\"],[0.4444444444444444,\"#bd3786\"],[0.5555555555555556,\"#d8576b\"],[0.6666666666666666,\"#ed7953\"],[0.7777777777777778,\"#fb9f3a\"],[0.8888888888888888,\"#fdca26\"],[1.0,\"#f0f921\"]]}],\"surface\":[{\"type\":\"surface\",\"colorbar\":{\"outlinewidth\":0,\"ticks\":\"\"},\"colorscale\":[[0.0,\"#0d0887\"],[0.1111111111111111,\"#46039f\"],[0.2222222222222222,\"#7201a8\"],[0.3333333333333333,\"#9c179e\"],[0.4444444444444444,\"#bd3786\"],[0.5555555555555556,\"#d8576b\"],[0.6666666666666666,\"#ed7953\"],[0.7777777777777778,\"#fb9f3a\"],[0.8888888888888888,\"#fdca26\"],[1.0,\"#f0f921\"]]}],\"mesh3d\":[{\"type\":\"mesh3d\",\"colorbar\":{\"outlinewidth\":0,\"ticks\":\"\"}}],\"scatter\":[{\"fillpattern\":{\"fillmode\":\"overlay\",\"size\":10,\"solidity\":0.2},\"type\":\"scatter\"}],\"parcoords\":[{\"type\":\"parcoords\",\"line\":{\"colorbar\":{\"outlinewidth\":0,\"ticks\":\"\"}}}],\"scatterpolargl\":[{\"type\":\"scatterpolargl\",\"marker\":{\"colorbar\":{\"outlinewidth\":0,\"ticks\":\"\"}}}],\"bar\":[{\"error_x\":{\"color\":\"#2a3f5f\"},\"error_y\":{\"color\":\"#2a3f5f\"},\"marker\":{\"line\":{\"color\":\"#E5ECF6\",\"width\":0.5},\"pattern\":{\"fillmode\":\"overlay\",\"size\":10,\"solidity\":0.2}},\"type\":\"bar\"}],\"scattergeo\":[{\"type\":\"scattergeo\",\"marker\":{\"colorbar\":{\"outlinewidth\":0,\"ticks\":\"\"}}}],\"scatterpolar\":[{\"type\":\"scatterpolar\",\"marker\":{\"colorbar\":{\"outlinewidth\":0,\"ticks\":\"\"}}}],\"histogram\":[{\"marker\":{\"pattern\":{\"fillmode\":\"overlay\",\"size\":10,\"solidity\":0.2}},\"type\":\"histogram\"}],\"scattergl\":[{\"type\":\"scattergl\",\"marker\":{\"colorbar\":{\"outlinewidth\":0,\"ticks\":\"\"}}}],\"scatter3d\":[{\"type\":\"scatter3d\",\"line\":{\"colorbar\":{\"outlinewidth\":0,\"ticks\":\"\"}},\"marker\":{\"colorbar\":{\"outlinewidth\":0,\"ticks\":\"\"}}}],\"scattermapbox\":[{\"type\":\"scattermapbox\",\"marker\":{\"colorbar\":{\"outlinewidth\":0,\"ticks\":\"\"}}}],\"scatterternary\":[{\"type\":\"scatterternary\",\"marker\":{\"colorbar\":{\"outlinewidth\":0,\"ticks\":\"\"}}}],\"scattercarpet\":[{\"type\":\"scattercarpet\",\"marker\":{\"colorbar\":{\"outlinewidth\":0,\"ticks\":\"\"}}}],\"carpet\":[{\"aaxis\":{\"endlinecolor\":\"#2a3f5f\",\"gridcolor\":\"white\",\"linecolor\":\"white\",\"minorgridcolor\":\"white\",\"startlinecolor\":\"#2a3f5f\"},\"baxis\":{\"endlinecolor\":\"#2a3f5f\",\"gridcolor\":\"white\",\"linecolor\":\"white\",\"minorgridcolor\":\"white\",\"startlinecolor\":\"#2a3f5f\"},\"type\":\"carpet\"}],\"table\":[{\"cells\":{\"fill\":{\"color\":\"#EBF0F8\"},\"line\":{\"color\":\"white\"}},\"header\":{\"fill\":{\"color\":\"#C8D4E3\"},\"line\":{\"color\":\"white\"}},\"type\":\"table\"}],\"barpolar\":[{\"marker\":{\"line\":{\"color\":\"#E5ECF6\",\"width\":0.5},\"pattern\":{\"fillmode\":\"overlay\",\"size\":10,\"solidity\":0.2}},\"type\":\"barpolar\"}],\"pie\":[{\"automargin\":true,\"type\":\"pie\"}]},\"layout\":{\"autotypenumbers\":\"strict\",\"colorway\":[\"#636efa\",\"#EF553B\",\"#00cc96\",\"#ab63fa\",\"#FFA15A\",\"#19d3f3\",\"#FF6692\",\"#B6E880\",\"#FF97FF\",\"#FECB52\"],\"font\":{\"color\":\"#2a3f5f\"},\"hovermode\":\"closest\",\"hoverlabel\":{\"align\":\"left\"},\"paper_bgcolor\":\"white\",\"plot_bgcolor\":\"#E5ECF6\",\"polar\":{\"bgcolor\":\"#E5ECF6\",\"angularaxis\":{\"gridcolor\":\"white\",\"linecolor\":\"white\",\"ticks\":\"\"},\"radialaxis\":{\"gridcolor\":\"white\",\"linecolor\":\"white\",\"ticks\":\"\"}},\"ternary\":{\"bgcolor\":\"#E5ECF6\",\"aaxis\":{\"gridcolor\":\"white\",\"linecolor\":\"white\",\"ticks\":\"\"},\"baxis\":{\"gridcolor\":\"white\",\"linecolor\":\"white\",\"ticks\":\"\"},\"caxis\":{\"gridcolor\":\"white\",\"linecolor\":\"white\",\"ticks\":\"\"}},\"coloraxis\":{\"colorbar\":{\"outlinewidth\":0,\"ticks\":\"\"}},\"colorscale\":{\"sequential\":[[0.0,\"#0d0887\"],[0.1111111111111111,\"#46039f\"],[0.2222222222222222,\"#7201a8\"],[0.3333333333333333,\"#9c179e\"],[0.4444444444444444,\"#bd3786\"],[0.5555555555555556,\"#d8576b\"],[0.6666666666666666,\"#ed7953\"],[0.7777777777777778,\"#fb9f3a\"],[0.8888888888888888,\"#fdca26\"],[1.0,\"#f0f921\"]],\"sequentialminus\":[[0.0,\"#0d0887\"],[0.1111111111111111,\"#46039f\"],[0.2222222222222222,\"#7201a8\"],[0.3333333333333333,\"#9c179e\"],[0.4444444444444444,\"#bd3786\"],[0.5555555555555556,\"#d8576b\"],[0.6666666666666666,\"#ed7953\"],[0.7777777777777778,\"#fb9f3a\"],[0.8888888888888888,\"#fdca26\"],[1.0,\"#f0f921\"]],\"diverging\":[[0,\"#8e0152\"],[0.1,\"#c51b7d\"],[0.2,\"#de77ae\"],[0.3,\"#f1b6da\"],[0.4,\"#fde0ef\"],[0.5,\"#f7f7f7\"],[0.6,\"#e6f5d0\"],[0.7,\"#b8e186\"],[0.8,\"#7fbc41\"],[0.9,\"#4d9221\"],[1,\"#276419\"]]},\"xaxis\":{\"gridcolor\":\"white\",\"linecolor\":\"white\",\"ticks\":\"\",\"title\":{\"standoff\":15},\"zerolinecolor\":\"white\",\"automargin\":true,\"zerolinewidth\":2},\"yaxis\":{\"gridcolor\":\"white\",\"linecolor\":\"white\",\"ticks\":\"\",\"title\":{\"standoff\":15},\"zerolinecolor\":\"white\",\"automargin\":true,\"zerolinewidth\":2},\"scene\":{\"xaxis\":{\"backgroundcolor\":\"#E5ECF6\",\"gridcolor\":\"white\",\"linecolor\":\"white\",\"showbackground\":true,\"ticks\":\"\",\"zerolinecolor\":\"white\",\"gridwidth\":2},\"yaxis\":{\"backgroundcolor\":\"#E5ECF6\",\"gridcolor\":\"white\",\"linecolor\":\"white\",\"showbackground\":true,\"ticks\":\"\",\"zerolinecolor\":\"white\",\"gridwidth\":2},\"zaxis\":{\"backgroundcolor\":\"#E5ECF6\",\"gridcolor\":\"white\",\"linecolor\":\"white\",\"showbackground\":true,\"ticks\":\"\",\"zerolinecolor\":\"white\",\"gridwidth\":2}},\"shapedefaults\":{\"line\":{\"color\":\"#2a3f5f\"}},\"annotationdefaults\":{\"arrowcolor\":\"#2a3f5f\",\"arrowhead\":0,\"arrowwidth\":1},\"geo\":{\"bgcolor\":\"white\",\"landcolor\":\"#E5ECF6\",\"subunitcolor\":\"white\",\"showland\":true,\"showlakes\":true,\"lakecolor\":\"white\"},\"title\":{\"x\":0.05},\"mapbox\":{\"style\":\"light\"}}},\"scene\":{\"domain\":{\"x\":[0.0,1.0],\"y\":[0.0,1.0]},\"xaxis\":{\"title\":{\"text\":\"x\"}},\"yaxis\":{\"title\":{\"text\":\"y\"}},\"zaxis\":{\"title\":{\"text\":\"z\"}}},\"legend\":{\"tracegroupgap\":0},\"title\":{\"text\":\"3D Scatter Plot\"}},                        {\"responsive\": true}                    ).then(function(){\n",
              "                            \n",
              "var gd = document.getElementById('235b7373-ff90-41bb-bda9-d44bef304973');\n",
              "var x = new MutationObserver(function (mutations, observer) {{\n",
              "        var display = window.getComputedStyle(gd).display;\n",
              "        if (!display || display === 'none') {{\n",
              "            console.log([gd, 'removed!']);\n",
              "            Plotly.purge(gd);\n",
              "            observer.disconnect();\n",
              "        }}\n",
              "}});\n",
              "\n",
              "// Listen for the removal of the full notebook cells\n",
              "var notebookContainer = gd.closest('#notebook-container');\n",
              "if (notebookContainer) {{\n",
              "    x.observe(notebookContainer, {childList: true});\n",
              "}}\n",
              "\n",
              "// Listen for the clearing of the current output cell\n",
              "var outputEl = gd.closest('.output');\n",
              "if (outputEl) {{\n",
              "    x.observe(outputEl, {childList: true});\n",
              "}}\n",
              "\n",
              "                        })                };                            </script>        </div>\n",
              "</body>\n",
              "</html>"
            ]
          },
          "metadata": {}
        }
      ]
    }
  ]
}